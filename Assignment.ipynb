{
 "cells": [
  {
   "cell_type": "code",
   "execution_count": 7,
   "id": "813eb67b-2503-46b7-8f92-b418ba8cc541",
   "metadata": {},
   "outputs": [
    {
     "name": "stdout",
     "output_type": "stream",
     "text": [
      "ai/ml 8076 @3487%\n",
      "hello LOKESH sir\n"
     ]
    }
   ],
   "source": [
    "#Write a Python program to print \"Hello, World!\".\n",
    "a='ai/ml'\n",
    "b=8076\n",
    "c='@3487%'\n",
    "d=\"hello LOKESH sir\"\n",
    "print(a,b,c)\n",
    "print(d)"
   ]
  },
  {
   "cell_type": "code",
   "execution_count": 37,
   "id": "4d6b7dfb-99f3-4d07-a797-ee0dd201b65c",
   "metadata": {},
   "outputs": [
    {
     "name": "stdin",
     "output_type": "stream",
     "text": [
      "Enter the name:  vineel\n",
      "Enter the number:  26\n",
      "enter the salary:  5.7\n"
     ]
    },
    {
     "name": "stdout",
     "output_type": "stream",
     "text": [
      " Biodata of person\n",
      " Name is vineel Age is 26 and Height is 5.7\n"
     ]
    }
   ],
   "source": [
    "#Write a Python program that takes a user input and prints it.\n",
    "name=input(\"Enter the name: \")\n",
    "age=int(input(\"Enter the number: \"))\n",
    "height=float(input(\"enter the salary: \"))\n",
    "print( f\" Biodata of person\\n Name is {name} Age is {age} and Height is {height}\")"
   ]
  },
  {
   "cell_type": "code",
   "execution_count": 51,
   "id": "6c336409-ed16-494e-ae9f-9181a1250644",
   "metadata": {},
   "outputs": [
    {
     "name": "stdin",
     "output_type": "stream",
     "text": [
      "Enter the number:  -23\n"
     ]
    },
    {
     "name": "stdout",
     "output_type": "stream",
     "text": [
      "-23 is negative number\n"
     ]
    }
   ],
   "source": [
    "#Write a Python program to check if a number is positive, negative, or zero.\n",
    "\n",
    "number =int(input(\"Enter the number: \"))\n",
    "if number > 0:\n",
    "    print(f'{number} is postive number')\n",
    "elif number < 0:\n",
    "    print(f'{number} is negative number')\n",
    "else:\n",
    "    print(\"Entered number is zero\")"
   ]
  },
  {
   "cell_type": "code",
   "execution_count": 69,
   "id": "6bdcb5d0-5157-4597-83a5-149f77a1847e",
   "metadata": {},
   "outputs": [
    {
     "name": "stdout",
     "output_type": "stream",
     "text": [
      "-3\n",
      "-2\n",
      "-1\n",
      "0\n",
      "1\n",
      "2\n",
      "3\n"
     ]
    }
   ],
   "source": [
    "for i in range(-3,4):\n",
    "    print(i)\n",
    "        \n",
    "        "
   ]
  },
  {
   "cell_type": "code",
   "execution_count": 63,
   "id": "416c0560-5c63-4375-9c30-247b8ed5f169",
   "metadata": {},
   "outputs": [
    {
     "name": "stdin",
     "output_type": "stream",
     "text": [
      "Enter the number:  3\n"
     ]
    },
    {
     "name": "stdout",
     "output_type": "stream",
     "text": [
      "-3 is a negative number\n",
      "-2 is a negative number\n",
      "-1 is a negative number\n",
      "Entered number is zero\n",
      "1 is a positive number\n",
      "2 is a positive number\n",
      "3 is a positive number\n"
     ]
    }
   ],
   "source": [
    "number = int(input(\"Enter the number: \"))\n",
    "\n",
    "for i in range(-number, number+1):  # To include negative numbers as well\n",
    "    if i > 0:\n",
    "        print(f'{i} is a positive number')\n",
    "    elif i < 0:\n",
    "        print(f'{i} is a negative number')\n",
    "    else:\n",
    "        print(\"Entered number is zero\")\n"
   ]
  },
  {
   "cell_type": "code",
   "execution_count": 77,
   "id": "f4c632fd-5fa9-4589-ae4b-95d429e3e875",
   "metadata": {},
   "outputs": [
    {
     "name": "stdin",
     "output_type": "stream",
     "text": [
      "Enter the number:  2\n",
      "Enter the number:  6\n",
      "Enter the number:  3\n"
     ]
    },
    {
     "name": "stdout",
     "output_type": "stream",
     "text": [
      "6 is largest of all given numbers\n"
     ]
    }
   ],
   "source": [
    "#Write a Python program to find the largest of three numbers.\n",
    "max1=int(input(\"Enter the number: \"))\n",
    "max2=int(input(\"Enter the number: \"))\n",
    "max3=int(input(\"Enter the number: \"))\n",
    "if max1 > max2 and max1 > max3:\n",
    "    print(f'{max1} is largest of all given numbers')\n",
    "elif max2 > max1 and max2 > max3:\n",
    "    print(f'{max2} is largest of all given numbers')\n",
    "else:\n",
    "    print(f'{max3} is largest of all given numbers')\n",
    "    "
   ]
  },
  {
   "cell_type": "code",
   "execution_count": 79,
   "id": "093ff5c3-6e0b-4664-9100-1ed1bb8a8172",
   "metadata": {},
   "outputs": [
    {
     "name": "stdin",
     "output_type": "stream",
     "text": [
      "Enter the first number:  2\n",
      "Enter the second number:  6\n",
      "Enter the third number:  3\n"
     ]
    },
    {
     "name": "stdout",
     "output_type": "stream",
     "text": [
      "6 is the largest of all given numbers\n"
     ]
    }
   ],
   "source": [
    "max1 = int(input(\"Enter the first number: \"))\n",
    "max2 = int(input(\"Enter the second number: \"))\n",
    "max3 = int(input(\"Enter the third number: \"))\n",
    "\n",
    "if max1 > max2 or max1 > max3:\n",
    "    print(f'{max1} is the largest of all given numbers')\n",
    "elif max2 > max1 or max2 > max3:\n",
    "    print(f'{max2} is the largest of all given numbers')\n",
    "else:\n",
    "    print(f'{max3} is the largest of all given numbers')\n"
   ]
  },
  {
   "cell_type": "code",
   "execution_count": 81,
   "id": "960fecc5-a5c3-4536-a34c-9837fd23911a",
   "metadata": {},
   "outputs": [
    {
     "name": "stdin",
     "output_type": "stream",
     "text": [
      "Enter the first number:  3\n",
      "Enter the second number:  6\n",
      "Enter the third number:  4\n"
     ]
    },
    {
     "ename": "TypeError",
     "evalue": "int() takes at most 2 arguments (3 given)",
     "output_type": "error",
     "traceback": [
      "\u001b[1;31m---------------------------------------------------------------------------\u001b[0m",
      "\u001b[1;31mTypeError\u001b[0m                                 Traceback (most recent call last)",
      "Cell \u001b[1;32mIn[81], line 1\u001b[0m\n\u001b[1;32m----> 1\u001b[0m \u001b[38;5;28mmax\u001b[39m\u001b[38;5;241m=\u001b[39m \u001b[38;5;28mint\u001b[39m(\u001b[38;5;28minput\u001b[39m(\u001b[38;5;124m\"\u001b[39m\u001b[38;5;124mEnter the first number: \u001b[39m\u001b[38;5;124m\"\u001b[39m),\u001b[38;5;28mint\u001b[39m(\u001b[38;5;28minput\u001b[39m(\u001b[38;5;124m\"\u001b[39m\u001b[38;5;124mEnter the second number: \u001b[39m\u001b[38;5;124m\"\u001b[39m)),\u001b[38;5;28mint\u001b[39m(\u001b[38;5;28minput\u001b[39m(\u001b[38;5;124m\"\u001b[39m\u001b[38;5;124mEnter the third number: \u001b[39m\u001b[38;5;124m\"\u001b[39m)))\n\u001b[0;32m      2\u001b[0m big\u001b[38;5;241m=\u001b[39m\u001b[38;5;28mmax\u001b[39m[\u001b[38;5;241m0\u001b[39m]\n\u001b[0;32m      3\u001b[0m \u001b[38;5;28;01mfor\u001b[39;00m num \u001b[38;5;129;01min\u001b[39;00m \u001b[38;5;28mmax\u001b[39m:\n",
      "\u001b[1;31mTypeError\u001b[0m: int() takes at most 2 arguments (3 given)"
     ]
    }
   ],
   "source": [
    "max= int(input(\"Enter the first number: \"),int(input(\"Enter the second number: \")),int(input(\"Enter the third number: \")))\n",
    "big=max[0]\n",
    "for num in max:\n",
    "    if num > big:\n",
    "        big = num\n",
    "print(f\"{big} is largest of all given numbers\")    \n"
   ]
  },
  {
   "cell_type": "code",
   "execution_count": 1,
   "id": "a6c11c5e-12cf-4e3d-b8ac-74207df6d95c",
   "metadata": {},
   "outputs": [
    {
     "name": "stdin",
     "output_type": "stream",
     "text": [
      "Enter the first number:  2\n",
      "Enter the second number:  5\n",
      "Enter the third number:  1\n"
     ]
    },
    {
     "name": "stdout",
     "output_type": "stream",
     "text": [
      "5 is the largest of all given numbers\n"
     ]
    }
   ],
   "source": [
    "numbers = [int(input(\"Enter the first number: \")), int(input(\"Enter the second number: \")), int(input(\"Enter the third number: \"))] #0-->2,1 -->5,2-->1\n",
    "\n",
    "big = numbers[0] # 1 ,now 5\n",
    "for num in numbers: # 1 5\n",
    "    if num > big: #1>1 (f) 5>2 (t) 1>5 (f)\n",
    "        big = num # 5 \n",
    "                                        #exit loop ans is 5\n",
    "print(f\"{big} is the largest of all given numbers\")\n"
   ]
  },
  {
   "cell_type": "code",
   "execution_count": 19,
   "id": "e895b67d-10d2-4eeb-9e19-cb0df4c13645",
   "metadata": {},
   "outputs": [
    {
     "name": "stdin",
     "output_type": "stream",
     "text": [
      "enter the number:  5\n"
     ]
    },
    {
     "name": "stdout",
     "output_type": "stream",
     "text": [
      "The factorial for 5 is 120\n"
     ]
    }
   ],
   "source": [
    "#Write a Python program to calculate the factorial of a number.\n",
    "number=int(input(\"enter the number: \"))\n",
    "fact=1\n",
    "for i in range(1,6): # if we define single digit in range it will show ans as 0 because range will start from 0 if we not not define anything for startpoint\n",
    "    fact*=i\n",
    "    #print(fact)\n",
    "print(f'The factorial for {number} is {fact}')    "
   ]
  },
  {
   "cell_type": "code",
   "execution_count": 21,
   "id": "359cb3f8-d150-4720-b199-6105cbb5eb6e",
   "metadata": {},
   "outputs": [
    {
     "name": "stdout",
     "output_type": "stream",
     "text": [
      "0\n",
      "1\n",
      "2\n",
      "3\n",
      "4\n",
      "5\n"
     ]
    }
   ],
   "source": [
    "for i in range(6):\n",
    "    print(i)\n"
   ]
  },
  {
   "cell_type": "code",
   "execution_count": 35,
   "id": "7c66c199-627c-416e-8081-3c9581fe80fa",
   "metadata": {},
   "outputs": [
    {
     "name": "stdin",
     "output_type": "stream",
     "text": [
      "enter the number:  5\n"
     ]
    },
    {
     "name": "stdout",
     "output_type": "stream",
     "text": [
      "The factorial for 5 is 120\n"
     ]
    }
   ],
   "source": [
    "number=int(input(\"enter the number: \"))\n",
    "fact=1\n",
    "i=1\n",
    "while i<=num:\n",
    "    fact*=i\n",
    "    i+=1\n",
    "print(f'The factorial for {number} is {fact}')       "
   ]
  },
  {
   "cell_type": "code",
   "execution_count": 49,
   "id": "31fc9883-c244-43d0-8cf6-84f3b320d02f",
   "metadata": {},
   "outputs": [
    {
     "name": "stdin",
     "output_type": "stream",
     "text": [
      "enter the number:  5\n"
     ]
    },
    {
     "name": "stdout",
     "output_type": "stream",
     "text": [
      "120\n"
     ]
    }
   ],
   "source": [
    "#comprehension\n",
    "number=int(input(\"enter the number: \"))\n",
    "fact=1\n",
    "[fact :=  fact*i for i in range(1,6) ] #we use list comprehensiob to update value for fact iteration\n",
    "print(fact)"
   ]
  },
  {
   "cell_type": "code",
   "execution_count": 69,
   "id": "19734929-1139-4430-8b11-2ce1f34c5fad",
   "metadata": {},
   "outputs": [
    {
     "name": "stdout",
     "output_type": "stream",
     "text": [
      "vinny is <class 'str'>\n",
      "18 is <class 'int'>\n",
      "True is <class 'bool'>\n",
      "12.87 is <class 'float'>\n"
     ]
    }
   ],
   "source": [
    "### 2. Variables and Data Types\n",
    "##Create variables of different data types: integer, float, string, and boolean. Print their values and types.\n",
    "a = \"vinny\"\n",
    "b=18\n",
    "c=True\n",
    "d=12.87\n",
    "print(f'{a} is {type(a)}')\n",
    "print(f'{b} is {type(b)}')\n",
    "print(f'{c} is {type(c)}')\n",
    "print(f'{d} is {type(d)}')\n",
    "# print(b,type(b))\n",
    "# print(c,type(c))\n",
    "# print(d,type(d))"
   ]
  },
  {
   "cell_type": "code",
   "execution_count": 83,
   "id": "41ba06cd-0093-459d-a9d8-3b027dc16297",
   "metadata": {},
   "outputs": [
    {
     "name": "stdout",
     "output_type": "stream",
     "text": [
      "140707981581016\n",
      "140707981581336\n",
      "20\n",
      "10\n",
      "140707981581336\n",
      "140707981581016\n"
     ]
    }
   ],
   "source": [
    "# Write a Python program to swap the values of two variables.\n",
    "a=10\n",
    "b=20\n",
    "\n",
    "print(id(a))\n",
    "print(id(b)) \n",
    "\n",
    "a,b = b,a\n",
    "\n",
    "print(a)\n",
    "print(b)\n",
    "print(id(a))\n",
    "print(id(b))"
   ]
  },
  {
   "cell_type": "code",
   "execution_count": 85,
   "id": "3f0904fe-8dfe-49d5-a662-b03d3c21e4df",
   "metadata": {},
   "outputs": [
    {
     "name": "stdout",
     "output_type": "stream",
     "text": [
      "18 140707981581272\n",
      "10 140707981581016\n",
      "10 140707981581016\n"
     ]
    }
   ],
   "source": [
    "#memory allocation\n",
    "a=10\n",
    "b=10\n",
    "c=a\n",
    "a=18\n",
    "print(a,id(a))\n",
    "print(b,id(b))\n",
    "print(c,id(c))"
   ]
  },
  {
   "cell_type": "code",
   "execution_count": 95,
   "id": "afe41cdc-c1b5-4356-9f11-5633a2dfb7b1",
   "metadata": {},
   "outputs": [
    {
     "name": "stdout",
     "output_type": "stream",
     "text": [
      "107.60000000000001\n"
     ]
    }
   ],
   "source": [
    "#Write a Python program to convert Celsius to Fahrenheit.\n",
    "#25 degrees to fahrenheit\n",
    "c=33\n",
    "Fahrenhit=(9/5 * 42) + 32  #(9/5 * c) + 32\n",
    "print(Fahrenhit)\n"
   ]
  },
  {
   "cell_type": "code",
   "execution_count": 97,
   "id": "58b5c46d-9377-4710-beaa-ea40fb6274d1",
   "metadata": {},
   "outputs": [
    {
     "name": "stdout",
     "output_type": "stream",
     "text": [
      "39.44444444444444\n"
     ]
    }
   ],
   "source": [
    "#Farenhit to celsius\n",
    "f=103\n",
    "celsius = (5/9*(103-32)) #(5/9*(F-32))\n",
    "print(celsius)"
   ]
  },
  {
   "cell_type": "code",
   "execution_count": 103,
   "id": "22ef0344-9f28-4edc-840c-cdef8ff28ca7",
   "metadata": {},
   "outputs": [
    {
     "name": "stdout",
     "output_type": "stream",
     "text": [
      "vineel\n"
     ]
    }
   ],
   "source": [
    "#Write a Python program to concatenate two strings.\n",
    "a=\"vin\"\n",
    "b=\"eel\"\n",
    "print(a+b)"
   ]
  },
  {
   "cell_type": "code",
   "execution_count": 113,
   "id": "8bdc6028-0bb3-46ac-a90f-46db5b394be3",
   "metadata": {},
   "outputs": [
    {
     "name": "stdout",
     "output_type": "stream",
     "text": [
      "vineel\n"
     ]
    }
   ],
   "source": [
    "#different ways of concatinating\n",
    "name=['vin','eel']\n",
    "print(\"\".join(name))"
   ]
  },
  {
   "cell_type": "code",
   "execution_count": 115,
   "id": "58a785b2-4382-4205-be42-6677225d5bd9",
   "metadata": {},
   "outputs": [
    {
     "name": "stdout",
     "output_type": "stream",
     "text": [
      "vineelvineelvineel\n"
     ]
    }
   ],
   "source": [
    "name=\"vineel\"\n",
    "print(name*3)"
   ]
  },
  {
   "cell_type": "code",
   "execution_count": 131,
   "id": "fe7ad99f-fe59-4b66-b5b1-8acff9547bec",
   "metadata": {},
   "outputs": [
    {
     "data": {
      "text/plain": [
       "True"
      ]
     },
     "execution_count": 131,
     "metadata": {},
     "output_type": "execute_result"
    }
   ],
   "source": [
    "#Write a Python program to check if a variable is of a specific data type.\n",
    "name=\"vineel\"\n",
    "isinstance(name,str)\n",
    "\n"
   ]
  },
  {
   "cell_type": "code",
   "execution_count": 133,
   "id": "1e1ffe3e-baa2-4c41-9a01-0e0018771167",
   "metadata": {},
   "outputs": [
    {
     "name": "stdout",
     "output_type": "stream",
     "text": [
      "yes it is int type\n"
     ]
    }
   ],
   "source": [
    "num= 18\n",
    "if isinstance(num, int):\n",
    "    print('yes it is int type')\n",
    "else:\n",
    "    ('it is not string')"
   ]
  },
  {
   "cell_type": "code",
   "execution_count": 145,
   "id": "c616610b-ecc8-4b55-a604-a0600273b8e8",
   "metadata": {},
   "outputs": [
    {
     "name": "stdout",
     "output_type": "stream",
     "text": [
      "43\n",
      "<class 'str'>\n",
      "43\n",
      "<class 'int'>\n"
     ]
    }
   ],
   "source": [
    "#convert int to string\n",
    "num=43\n",
    "string=str(num)\n",
    "print(string)\n",
    "print(type(string))\n",
    "\n",
    "string = '43'\n",
    "integer= int(string)\n",
    "print(integer)\n",
    "print(type(integer))"
   ]
  },
  {
   "cell_type": "code",
   "execution_count": 149,
   "id": "9ecb6220-47e3-4706-9848-dcb22dce55c6",
   "metadata": {},
   "outputs": [
    {
     "name": "stdin",
     "output_type": "stream",
     "text": [
      "Enter the number:  3\n",
      "Enter the number:  8\n"
     ]
    },
    {
     "name": "stdout",
     "output_type": "stream",
     "text": [
      "11\n",
      "-5\n",
      "24\n",
      "0.375\n",
      "0\n",
      "3\n",
      "9\n",
      "64\n"
     ]
    }
   ],
   "source": [
    "### 3. Basic Operators (Arithmetic, Comparison, Logical)\n",
    "\n",
    "### Write a Python program to perform arithmetic operations: addition, subtraction, multiplication, and division.\n",
    "###Write a Python program to calculate the square of a number.\n",
    "\n",
    "a=int(input(\"Enter the number: \"))\n",
    "b=int(input(\"Enter the number: \"))\n",
    "print( a + b)\n",
    "print(a - b)\n",
    "print( a * b)\n",
    "print(a / b)\n",
    "print(a // b)\n",
    "print(a % b)\n",
    "print(a **2)\n",
    "print(b **2)"
   ]
  },
  {
   "cell_type": "code",
   "execution_count": 153,
   "id": "41a76480-11c6-4b41-8964-c4844ccc0797",
   "metadata": {},
   "outputs": [
    {
     "name": "stdin",
     "output_type": "stream",
     "text": [
      "Enter the number:  4\n",
      "Enter the number:  5\n"
     ]
    },
    {
     "name": "stdout",
     "output_type": "stream",
     "text": [
      "False\n",
      "True\n",
      "False\n"
     ]
    }
   ],
   "source": [
    "#Write a Python program to demonstrate comparison operators: equal to, not equal to, greater than, less than.\\\n",
    "a=int(input(\"Enter the number: \"))\n",
    "b=int(input(\"Enter the number: \"))\n",
    "print(a > b)\n",
    "print( a < b)\n",
    "print( a == b)"
   ]
  },
  {
   "cell_type": "code",
   "execution_count": 161,
   "id": "667ad81d-64d0-47bf-8ac2-36318de2f8c9",
   "metadata": {},
   "outputs": [
    {
     "name": "stdin",
     "output_type": "stream",
     "text": [
      "Enter the number:  5\n",
      "Enter the number:  5\n"
     ]
    },
    {
     "name": "stdout",
     "output_type": "stream",
     "text": [
      "True\n",
      "True\n",
      "False\n"
     ]
    }
   ],
   "source": [
    "# <=, >=\n",
    "a=int(input(\"Enter the number: \"))\n",
    "b=int(input(\"Enter the number: \"))\n",
    "print( a <= b)\n",
    "print(a >= b)\n",
    "print( a != b)"
   ]
  },
  {
   "cell_type": "code",
   "execution_count": 167,
   "id": "b89d2468-0d20-4f32-8f81-8a5200a3d1d5",
   "metadata": {},
   "outputs": [
    {
     "name": "stdin",
     "output_type": "stream",
     "text": [
      "Enter the number:  4\n",
      "Enter the number:  6\n",
      "Enter the number:  1\n"
     ]
    },
    {
     "name": "stdout",
     "output_type": "stream",
     "text": [
      "b is big number\n"
     ]
    }
   ],
   "source": [
    "#Write a Python program to demonstrate logical operators: and, or, not.\n",
    "a=int(input(\"Enter the number: \"))\n",
    "b=int(input(\"Enter the number: \"))\n",
    "c=int(input(\"Enter the number: \"))\n",
    "max = \"a is big number\" if a > b and a > c else \"b is big number\" if b > a and b > c else \"c is big number\"\n",
    "print(max)"
   ]
  },
  {
   "cell_type": "code",
   "execution_count": 169,
   "id": "ab8b3cdd-f5fb-4741-abee-3160a8eb35d2",
   "metadata": {},
   "outputs": [
    {
     "name": "stdin",
     "output_type": "stream",
     "text": [
      "Enter the number:  3\n",
      "Enter the number:  2\n",
      "Enter the number:  6\n"
     ]
    },
    {
     "name": "stdout",
     "output_type": "stream",
     "text": [
      "b is small number\n"
     ]
    }
   ],
   "source": [
    "a=int(input(\"Enter the number: \"))\n",
    "b=int(input(\"Enter the number: \"))\n",
    "c=int(input(\"Enter the number: \"))\n",
    "min = \"a is small number\" if a < b or a > c else \"b is small number\" if b > a or b < c else \"c is small number\"\n",
    "print(min)"
   ]
  },
  {
   "cell_type": "code",
   "execution_count": 177,
   "id": "79241116-aa8d-425b-ae32-bbdea449a593",
   "metadata": {},
   "outputs": [
    {
     "name": "stdout",
     "output_type": "stream",
     "text": [
      "True\n"
     ]
    }
   ],
   "source": [
    "a= 6\n",
    "b =4\n",
    "c=a != b\n",
    "print(c)"
   ]
  },
  {
   "cell_type": "code",
   "execution_count": 179,
   "id": "83d1922b-e748-413e-98a5-952598b1a7a8",
   "metadata": {},
   "outputs": [
    {
     "name": "stdin",
     "output_type": "stream",
     "text": [
      "Enter the number:  4\n"
     ]
    },
    {
     "name": "stdout",
     "output_type": "stream",
     "text": [
      "entered number is even\n"
     ]
    }
   ],
   "source": [
    "##Write a Python program to check if a number is even or odd.\n",
    "a=int(input(\"Enter the number: \"))\n",
    "if a % 2 == 0:\n",
    "    print(\"entered number is even\")\n",
    "else:\n",
    "    print(\"entered number is odd\")\n",
    "    \n"
   ]
  },
  {
   "cell_type": "code",
   "execution_count": 181,
   "id": "19eb797c-a26c-427f-9aaf-e6dd98fb092b",
   "metadata": {},
   "outputs": [
    {
     "name": "stdin",
     "output_type": "stream",
     "text": [
      "Enter the number:  3\n"
     ]
    },
    {
     "name": "stdout",
     "output_type": "stream",
     "text": [
      "entered number is odd\n"
     ]
    }
   ],
   "source": [
    "a=int(input(\"Enter the number: \"))\n",
    "if a % 2 != 0:\n",
    "    print(\"entered number is odd\")\n",
    "else:\n",
    "    print(\"entered number is even\")\n",
    "    "
   ]
  },
  {
   "cell_type": "code",
   "execution_count": 192,
   "id": "317e4996-c8bb-432b-aab1-e9deebdb6d62",
   "metadata": {},
   "outputs": [
    {
     "name": "stdout",
     "output_type": "stream",
     "text": [
      "0\n",
      "1\n",
      "2\n",
      "3\n",
      "4\n",
      "5\n",
      "6\n",
      "7\n",
      "8\n",
      "9\n",
      "10\n"
     ]
    }
   ],
   "source": [
    "# Write a Python program to find the sof the first n natural numbers.\n",
    "n=10\n",
    "for i in range(0,11):\n",
    "    print(i)\n",
    "    "
   ]
  },
  {
   "cell_type": "code",
   "execution_count": 196,
   "id": "c0eaffdc-3e39-4a57-a017-de1036e94f8b",
   "metadata": {},
   "outputs": [
    {
     "name": "stdin",
     "output_type": "stream",
     "text": [
      "Enter the number:  3\n"
     ]
    },
    {
     "name": "stdout",
     "output_type": "stream",
     "text": [
      "6\n"
     ]
    }
   ],
   "source": [
    "# Write a Python program to find the sum the first n natural numbers.\n",
    "num=int(input(\"Enter the number: \"))\n",
    "sum=0\n",
    "i=0\n",
    "while i <= num:\n",
    "    sum+=i\n",
    "    i+=1\n",
    "print(sum)    "
   ]
  },
  {
   "cell_type": "code",
   "execution_count": 202,
   "id": "471b0d78-b9c5-4436-873e-9bb3425eced4",
   "metadata": {},
   "outputs": [
    {
     "name": "stdin",
     "output_type": "stream",
     "text": [
      "Enter the year:  2028\n"
     ]
    },
    {
     "name": "stdout",
     "output_type": "stream",
     "text": [
      "2028 is leap year\n"
     ]
    }
   ],
   "source": [
    "year=int(input(\"Enter the year: \"))\n",
    "if year % 4 == 0:\n",
    "    print(f\"{year} is leap year\")\n",
    "else:\n",
    "    print(f\"{year} no leap year\")\n",
    "         "
   ]
  },
  {
   "cell_type": "code",
   "execution_count": 214,
   "id": "1ddea843-f54e-47b7-acd4-01f35084f3de",
   "metadata": {},
   "outputs": [
    {
     "name": "stdout",
     "output_type": "stream",
     "text": [
      "leeniv\n"
     ]
    }
   ],
   "source": [
    "#Write a Python program to reverse a string.\n",
    "name = \"vineel\"\n",
    "reverse_name=name[::-1]  #written by seeing \n",
    "print(reverse_name)"
   ]
  },
  {
   "cell_type": "code",
   "execution_count": 216,
   "id": "028a71f9-0c31-4585-a709-0b0f2f2ec67b",
   "metadata": {},
   "outputs": [
    {
     "name": "stdout",
     "output_type": "stream",
     "text": [
      "leeniv\n"
     ]
    }
   ],
   "source": [
    "name = \"vineel\"\n",
    "reversed_name = \"\"\n",
    "\n",
    "# Using a for loop to reverse the string\n",
    "for char in name:\n",
    "    reversed_name = char + reversed_name\n",
    "\n",
    "print(reversed_name)  # Output: leenix\n"
   ]
  },
  {
   "cell_type": "code",
   "execution_count": 218,
   "id": "332664e3-11d0-4770-acd7-5e5705f4c99d",
   "metadata": {},
   "outputs": [
    {
     "name": "stdout",
     "output_type": "stream",
     "text": [
      "v\n",
      "i\n",
      "n\n",
      "e\n",
      "e\n",
      "l\n"
     ]
    }
   ],
   "source": [
    "name=\"vineel\"\n",
    "for char in name:\n",
    "    print(char)"
   ]
  },
  {
   "cell_type": "code",
   "execution_count": 226,
   "id": "2e5bd8ca-4e27-4eb3-8e70-270c7eeb3476",
   "metadata": {},
   "outputs": [
    {
     "name": "stdout",
     "output_type": "stream",
     "text": [
      "yes entered name vineel is not palidrome\n"
     ]
    }
   ],
   "source": [
    "#Write a Python program to check if a string is a palindrome.\n",
    "name=\"Vineel\"\n",
    "name=name.lower()\n",
    "reverse_name=name[::-1]\n",
    "if name == reverse_name:\n",
    "    print(f'yes entered name {name} is palidrome')\n",
    "else:\n",
    "    print(f'yes entered name {name} is not palidrome')\n",
    "    "
   ]
  },
  {
   "cell_type": "code",
   "execution_count": null,
   "id": "49adac67-2e8a-4973-b06d-1b6072f59e82",
   "metadata": {},
   "outputs": [],
   "source": []
  }
 ],
 "metadata": {
  "kernelspec": {
   "display_name": "Python 3 (ipykernel)",
   "language": "python",
   "name": "python3"
  },
  "language_info": {
   "codemirror_mode": {
    "name": "ipython",
    "version": 3
   },
   "file_extension": ".py",
   "mimetype": "text/x-python",
   "name": "python",
   "nbconvert_exporter": "python",
   "pygments_lexer": "ipython3",
   "version": "3.12.3"
  }
 },
 "nbformat": 4,
 "nbformat_minor": 5
}
